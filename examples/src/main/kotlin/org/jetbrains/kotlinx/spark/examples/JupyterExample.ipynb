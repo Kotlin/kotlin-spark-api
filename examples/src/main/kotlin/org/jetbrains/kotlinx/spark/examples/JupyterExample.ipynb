{
 "cells": [
  {
   "cell_type": "markdown",
   "source": [
    "By default the latest version of the API and the latest supported Spark version is chosen.\n",
    "To specify your own: `%use spark(spark=3.2, v=1.1.0)`"
   ],
   "metadata": {
    "collapsed": false,
    "pycharm": {
     "name": "#%% md\n"
    }
   }
  },
  {
   "cell_type": "code",
   "execution_count": 2,
   "outputs": [
    {
     "name": "stdout",
     "output_type": "stream",
     "text": [
      "Spark session has been started and is running. No `withSpark { }` necessary, you can access `spark` and `sc` directly. To use Spark streaming, use `%use spark-streaming` instead.\n"
     ]
    }
   ],
   "source": [
    "%use spark"
   ],
   "metadata": {
    "collapsed": false,
    "pycharm": {
     "name": "#%%\n"
    }
   }
  },
  {
   "cell_type": "markdown",
   "source": [
    "Let's define some enums and data classes to work with."
   ],
   "metadata": {
    "collapsed": false,
    "pycharm": {
     "name": "#%% md\n"
    }
   }
  },
  {
   "cell_type": "code",
   "execution_count": 3,
   "metadata": {
    "pycharm": {
     "name": "#%%\n"
    }
   },
   "outputs": [],
   "source": [
    "enum class EyeColor {\n",
    "    BLUE, BROWN, GREEN\n",
    "}\n",
    "\n",
    "enum class Gender {\n",
    "    MALE, FEMALE, OTHER\n",
    "}"
   ]
  },
  {
   "cell_type": "code",
   "execution_count": 4,
   "metadata": {
    "pycharm": {
     "name": "#%%\n"
    }
   },
   "outputs": [],
   "source": [
    "data class Person(\n",
    "    val eyeColor: EyeColor,\n",
    "    val name: String,\n",
    "    val gender: Gender,\n",
    "    val length: Double,\n",
    "    val age: Int,\n",
    ")"
   ]
  },
  {
   "cell_type": "markdown",
   "source": [
    "And now we can simply create a Dataset. We can see the contents of a Dataset by simply stating it. As seen below:"
   ],
   "metadata": {
    "collapsed": false,
    "pycharm": {
     "name": "#%% md\n"
    }
   }
  },
  {
   "cell_type": "code",
   "execution_count": 6,
   "metadata": {
    "pycharm": {
     "name": "#%%\n"
    }
   },
   "outputs": [
    {
     "data": {
      "text/html": "<head>\n  <style type=\"text/css\">\n:root {\n    --background: #fff;\n    --background-odd: #f5f5f5;\n    --background-hover: #d9edfd;\n    --header-text-color: #474747;\n    --text-color: #848484;\n    --text-color-dark: #000;\n    --text-color-medium: #737373;\n    --text-color-pale: #b3b3b3;\n    --inner-border-color: #aaa;\n    --bold-border-color: #000;\n    --link-color: #296eaa;\n    --link-color-pale: #296eaa;\n    --link-hover: #1a466c;\n}\n\n:root[theme=\"dark\"], :root [data-jp-theme-light=\"false\"]{\n    --background: #303030;\n    --background-odd: #3c3c3c;\n    --background-hover: #464646;\n    --header-text-color: #dddddd;\n    --text-color: #b3b3b3;\n    --text-color-dark: #dddddd;\n    --text-color-medium: #b2b2b2;\n    --text-color-pale: #737373;\n    --inner-border-color: #707070;\n    --bold-border-color: #777777;\n    --link-color: #008dc0;\n    --link-color-pale: #97e1fb;\n    --link-hover: #00688e;\n}\n\ntable.dataset {\n    font-family: \"Helvetica Neue\", Helvetica, Arial, sans-serif;\n    font-size: 12px;\n    background-color: var(--background);\n    color: var(--text-color);\n    border: none;\n    border-collapse: collapse;\n}\n\ntable.dataset th, td {\n    padding: 6px;\n    border: 1px solid transparent;\n    text-align: left;\n}\n\ntable.dataset th {\n    background-color: var(--background);\n    color: var(--header-text-color);\n}\n\ntable.dataset td {\n    vertical-align: top;\n}\n\ntable.dataset th.bottomBorder {\n    border-bottom-color: var(--bold-border-color);\n}\n\ntable.dataset tbody > tr:nth-child(odd) {\n    background: var(--background-odd);\n}\n\ntable.dataset tbody > tr:nth-child(even) {\n    background: var(--background);\n}\n\ntable.dataset tbody > tr:hover {\n    background: var(--background-hover);\n}\n\ntable.dataset a {\n    cursor: pointer;\n    color: var(--link-color);\n    text-decoration: none;\n}\n\ntable.dataset tr:hover > td a {\n    color: var(--link-color-pale);\n}\n\ntable.dataset a:hover {\n    color: var(--link-hover);\n    text-decoration: underline;\n}\n\ntable.dataset img {\n    max-width: fit-content;\n}\n\ntable.dataset th.complex {\n    background-color: var(--background);\n    border: 1px solid var(--background);\n}\n\ntable.dataset .leftBorder {\n    border-left-color: var(--inner-border-color);\n}\n\ntable.dataset .rightBorder {\n    border-right-color: var(--inner-border-color);\n}\n\ntable.dataset .rightAlign {\n    text-align: right;\n}\n\ntable.dataset .expanderSvg {\n    width: 8px;\n    height: 8px;\n    margin-right: 3px;\n}\n\ntable.dataset .expander {\n    display: flex;\n    align-items: center;\n}\n\n/* formatting */\n\ntable.dataset .null {\n    color: var(--text-color-pale);\n}\n\ntable.dataset .structural {\n    color: var(--text-color-medium);\n    font-weight: bold;\n}\n\ntable.dataset .datasetCaption {\n    font-weight: bold;\n}\n\ntable.dataset .numbers {\n    color: var(--text-color-dark);\n}\n\ntable.dataset td:hover .formatted .structural, .null {\n    color: var(--text-color-dark);\n}\n\ntable.dataset tr:hover .formatted .structural, .null {\n    color: var(--text-color-dark);\n}\n\n</style>\n</head>\n<table class=\"dataset\">\n  <tr>\n    <th>eyeColor</th>\n    <th>name</th>\n    <th>gender</th>\n    <th>length</th>\n    <th>age</th>\n  </tr>\n  <tr>\n    <td>BLUE</td>\n    <td>Alice</td>\n    <td>FEMALE</td>\n    <td>1.7</td>\n    <td>25</td>\n  </tr>\n  <tr>\n    <td>BLUE</td>\n    <td>Bob</td>\n    <td>MALE</td>\n    <td>1.67</td>\n    <td>25</td>\n  </tr>\n  <tr>\n    <td>BROWN</td>\n    <td>Charlie</td>\n    <td>OTHER</td>\n    <td>1.8</td>\n    <td>17</td>\n  </tr>\n</table>\n"
     },
     "execution_count": 6,
     "metadata": {},
     "output_type": "execute_result"
    }
   ],
   "source": [
    "val ds: Dataset<Person> = dsOf(\n",
    "    Person(\n",
    "        eyeColor = EyeColor.BLUE,\n",
    "        name = \"Alice\",\n",
    "        gender = Gender.FEMALE,\n",
    "        length = 1.70,\n",
    "        age = 25,\n",
    "    ),\n",
    "    Person(\n",
    "        eyeColor = EyeColor.BLUE,\n",
    "        name = \"Bob\",\n",
    "        gender = Gender.MALE,\n",
    "        length = 1.67,\n",
    "        age = 25,\n",
    "    ),\n",
    "    Person(\n",
    "        eyeColor = EyeColor.BROWN,\n",
    "        name = \"Charlie\",\n",
    "        gender = Gender.OTHER,\n",
    "        length = 1.80,\n",
    "        age = 17,\n",
    "    ),\n",
    ")\n",
    "\n",
    "ds"
   ]
  },
  {
   "cell_type": "markdown",
   "source": [
    "The effects of operations like filtering can also be seen immediately, as well as sorting, selecting columns etc..."
   ],
   "metadata": {
    "collapsed": false,
    "pycharm": {
     "name": "#%% md\n"
    }
   }
  },
  {
   "cell_type": "code",
   "execution_count": 7,
   "metadata": {
    "pycharm": {
     "name": "#%%\n"
    }
   },
   "outputs": [
    {
     "data": {
      "text/html": "<head>\n  <style type=\"text/css\">\n:root {\n    --background: #fff;\n    --background-odd: #f5f5f5;\n    --background-hover: #d9edfd;\n    --header-text-color: #474747;\n    --text-color: #848484;\n    --text-color-dark: #000;\n    --text-color-medium: #737373;\n    --text-color-pale: #b3b3b3;\n    --inner-border-color: #aaa;\n    --bold-border-color: #000;\n    --link-color: #296eaa;\n    --link-color-pale: #296eaa;\n    --link-hover: #1a466c;\n}\n\n:root[theme=\"dark\"], :root [data-jp-theme-light=\"false\"]{\n    --background: #303030;\n    --background-odd: #3c3c3c;\n    --background-hover: #464646;\n    --header-text-color: #dddddd;\n    --text-color: #b3b3b3;\n    --text-color-dark: #dddddd;\n    --text-color-medium: #b2b2b2;\n    --text-color-pale: #737373;\n    --inner-border-color: #707070;\n    --bold-border-color: #777777;\n    --link-color: #008dc0;\n    --link-color-pale: #97e1fb;\n    --link-hover: #00688e;\n}\n\ntable.dataset {\n    font-family: \"Helvetica Neue\", Helvetica, Arial, sans-serif;\n    font-size: 12px;\n    background-color: var(--background);\n    color: var(--text-color);\n    border: none;\n    border-collapse: collapse;\n}\n\ntable.dataset th, td {\n    padding: 6px;\n    border: 1px solid transparent;\n    text-align: left;\n}\n\ntable.dataset th {\n    background-color: var(--background);\n    color: var(--header-text-color);\n}\n\ntable.dataset td {\n    vertical-align: top;\n}\n\ntable.dataset th.bottomBorder {\n    border-bottom-color: var(--bold-border-color);\n}\n\ntable.dataset tbody > tr:nth-child(odd) {\n    background: var(--background-odd);\n}\n\ntable.dataset tbody > tr:nth-child(even) {\n    background: var(--background);\n}\n\ntable.dataset tbody > tr:hover {\n    background: var(--background-hover);\n}\n\ntable.dataset a {\n    cursor: pointer;\n    color: var(--link-color);\n    text-decoration: none;\n}\n\ntable.dataset tr:hover > td a {\n    color: var(--link-color-pale);\n}\n\ntable.dataset a:hover {\n    color: var(--link-hover);\n    text-decoration: underline;\n}\n\ntable.dataset img {\n    max-width: fit-content;\n}\n\ntable.dataset th.complex {\n    background-color: var(--background);\n    border: 1px solid var(--background);\n}\n\ntable.dataset .leftBorder {\n    border-left-color: var(--inner-border-color);\n}\n\ntable.dataset .rightBorder {\n    border-right-color: var(--inner-border-color);\n}\n\ntable.dataset .rightAlign {\n    text-align: right;\n}\n\ntable.dataset .expanderSvg {\n    width: 8px;\n    height: 8px;\n    margin-right: 3px;\n}\n\ntable.dataset .expander {\n    display: flex;\n    align-items: center;\n}\n\n/* formatting */\n\ntable.dataset .null {\n    color: var(--text-color-pale);\n}\n\ntable.dataset .structural {\n    color: var(--text-color-medium);\n    font-weight: bold;\n}\n\ntable.dataset .datasetCaption {\n    font-weight: bold;\n}\n\ntable.dataset .numbers {\n    color: var(--text-color-dark);\n}\n\ntable.dataset td:hover .formatted .structural, .null {\n    color: var(--text-color-dark);\n}\n\ntable.dataset tr:hover .formatted .structural, .null {\n    color: var(--text-color-dark);\n}\n\n</style>\n</head>\n<table class=\"dataset\">\n  <tr>\n    <th>eyeColor</th>\n    <th>name</th>\n    <th>gender</th>\n    <th>length</th>\n    <th>age</th>\n  </tr>\n  <tr>\n    <td>BLUE</td>\n    <td>Alice</td>\n    <td>FEMALE</td>\n    <td>1.7</td>\n    <td>25</td>\n  </tr>\n  <tr>\n    <td>BLUE</td>\n    <td>Bob</td>\n    <td>MALE</td>\n    <td>1.67</td>\n    <td>25</td>\n  </tr>\n</table>\n"
     },
     "execution_count": 7,
     "metadata": {},
     "output_type": "execute_result"
    }
   ],
   "source": [
    "ds.filter { it.age > 20 }"
   ]
  },
  {
   "cell_type": "code",
   "execution_count": 8,
   "outputs": [
    {
     "data": {
      "text/html": "<head>\n  <style type=\"text/css\">\n:root {\n    --background: #fff;\n    --background-odd: #f5f5f5;\n    --background-hover: #d9edfd;\n    --header-text-color: #474747;\n    --text-color: #848484;\n    --text-color-dark: #000;\n    --text-color-medium: #737373;\n    --text-color-pale: #b3b3b3;\n    --inner-border-color: #aaa;\n    --bold-border-color: #000;\n    --link-color: #296eaa;\n    --link-color-pale: #296eaa;\n    --link-hover: #1a466c;\n}\n\n:root[theme=\"dark\"], :root [data-jp-theme-light=\"false\"]{\n    --background: #303030;\n    --background-odd: #3c3c3c;\n    --background-hover: #464646;\n    --header-text-color: #dddddd;\n    --text-color: #b3b3b3;\n    --text-color-dark: #dddddd;\n    --text-color-medium: #b2b2b2;\n    --text-color-pale: #737373;\n    --inner-border-color: #707070;\n    --bold-border-color: #777777;\n    --link-color: #008dc0;\n    --link-color-pale: #97e1fb;\n    --link-hover: #00688e;\n}\n\ntable.dataset {\n    font-family: \"Helvetica Neue\", Helvetica, Arial, sans-serif;\n    font-size: 12px;\n    background-color: var(--background);\n    color: var(--text-color);\n    border: none;\n    border-collapse: collapse;\n}\n\ntable.dataset th, td {\n    padding: 6px;\n    border: 1px solid transparent;\n    text-align: left;\n}\n\ntable.dataset th {\n    background-color: var(--background);\n    color: var(--header-text-color);\n}\n\ntable.dataset td {\n    vertical-align: top;\n}\n\ntable.dataset th.bottomBorder {\n    border-bottom-color: var(--bold-border-color);\n}\n\ntable.dataset tbody > tr:nth-child(odd) {\n    background: var(--background-odd);\n}\n\ntable.dataset tbody > tr:nth-child(even) {\n    background: var(--background);\n}\n\ntable.dataset tbody > tr:hover {\n    background: var(--background-hover);\n}\n\ntable.dataset a {\n    cursor: pointer;\n    color: var(--link-color);\n    text-decoration: none;\n}\n\ntable.dataset tr:hover > td a {\n    color: var(--link-color-pale);\n}\n\ntable.dataset a:hover {\n    color: var(--link-hover);\n    text-decoration: underline;\n}\n\ntable.dataset img {\n    max-width: fit-content;\n}\n\ntable.dataset th.complex {\n    background-color: var(--background);\n    border: 1px solid var(--background);\n}\n\ntable.dataset .leftBorder {\n    border-left-color: var(--inner-border-color);\n}\n\ntable.dataset .rightBorder {\n    border-right-color: var(--inner-border-color);\n}\n\ntable.dataset .rightAlign {\n    text-align: right;\n}\n\ntable.dataset .expanderSvg {\n    width: 8px;\n    height: 8px;\n    margin-right: 3px;\n}\n\ntable.dataset .expander {\n    display: flex;\n    align-items: center;\n}\n\n/* formatting */\n\ntable.dataset .null {\n    color: var(--text-color-pale);\n}\n\ntable.dataset .structural {\n    color: var(--text-color-medium);\n    font-weight: bold;\n}\n\ntable.dataset .datasetCaption {\n    font-weight: bold;\n}\n\ntable.dataset .numbers {\n    color: var(--text-color-dark);\n}\n\ntable.dataset td:hover .formatted .structural, .null {\n    color: var(--text-color-dark);\n}\n\ntable.dataset tr:hover .formatted .structural, .null {\n    color: var(--text-color-dark);\n}\n\n</style>\n</head>\n<table class=\"dataset\">\n  <tr>\n    <th>eyeColor</th>\n    <th>name</th>\n    <th>gender</th>\n    <th>length</th>\n    <th>age</th>\n  </tr>\n  <tr>\n    <td>BROWN</td>\n    <td>Charlie</td>\n    <td>OTHER</td>\n    <td>1.8</td>\n    <td>17</td>\n  </tr>\n  <tr>\n    <td>BLUE</td>\n    <td>Bob</td>\n    <td>MALE</td>\n    <td>1.67</td>\n    <td>25</td>\n  </tr>\n  <tr>\n    <td>BLUE</td>\n    <td>Alice</td>\n    <td>FEMALE</td>\n    <td>1.7</td>\n    <td>25</td>\n  </tr>\n</table>\n"
     },
     "execution_count": 8,
     "metadata": {},
     "output_type": "execute_result"
    }
   ],
   "source": [
    "ds.sort(col(Person::age), col(Person::length))"
   ],
   "metadata": {
    "collapsed": false,
    "pycharm": {
     "name": "#%%\n"
    }
   }
  },
  {
   "cell_type": "code",
   "execution_count": 9,
   "outputs": [
    {
     "data": {
      "text/html": "<head>\n  <style type=\"text/css\">\n:root {\n    --background: #fff;\n    --background-odd: #f5f5f5;\n    --background-hover: #d9edfd;\n    --header-text-color: #474747;\n    --text-color: #848484;\n    --text-color-dark: #000;\n    --text-color-medium: #737373;\n    --text-color-pale: #b3b3b3;\n    --inner-border-color: #aaa;\n    --bold-border-color: #000;\n    --link-color: #296eaa;\n    --link-color-pale: #296eaa;\n    --link-hover: #1a466c;\n}\n\n:root[theme=\"dark\"], :root [data-jp-theme-light=\"false\"]{\n    --background: #303030;\n    --background-odd: #3c3c3c;\n    --background-hover: #464646;\n    --header-text-color: #dddddd;\n    --text-color: #b3b3b3;\n    --text-color-dark: #dddddd;\n    --text-color-medium: #b2b2b2;\n    --text-color-pale: #737373;\n    --inner-border-color: #707070;\n    --bold-border-color: #777777;\n    --link-color: #008dc0;\n    --link-color-pale: #97e1fb;\n    --link-hover: #00688e;\n}\n\ntable.dataset {\n    font-family: \"Helvetica Neue\", Helvetica, Arial, sans-serif;\n    font-size: 12px;\n    background-color: var(--background);\n    color: var(--text-color);\n    border: none;\n    border-collapse: collapse;\n}\n\ntable.dataset th, td {\n    padding: 6px;\n    border: 1px solid transparent;\n    text-align: left;\n}\n\ntable.dataset th {\n    background-color: var(--background);\n    color: var(--header-text-color);\n}\n\ntable.dataset td {\n    vertical-align: top;\n}\n\ntable.dataset th.bottomBorder {\n    border-bottom-color: var(--bold-border-color);\n}\n\ntable.dataset tbody > tr:nth-child(odd) {\n    background: var(--background-odd);\n}\n\ntable.dataset tbody > tr:nth-child(even) {\n    background: var(--background);\n}\n\ntable.dataset tbody > tr:hover {\n    background: var(--background-hover);\n}\n\ntable.dataset a {\n    cursor: pointer;\n    color: var(--link-color);\n    text-decoration: none;\n}\n\ntable.dataset tr:hover > td a {\n    color: var(--link-color-pale);\n}\n\ntable.dataset a:hover {\n    color: var(--link-hover);\n    text-decoration: underline;\n}\n\ntable.dataset img {\n    max-width: fit-content;\n}\n\ntable.dataset th.complex {\n    background-color: var(--background);\n    border: 1px solid var(--background);\n}\n\ntable.dataset .leftBorder {\n    border-left-color: var(--inner-border-color);\n}\n\ntable.dataset .rightBorder {\n    border-right-color: var(--inner-border-color);\n}\n\ntable.dataset .rightAlign {\n    text-align: right;\n}\n\ntable.dataset .expanderSvg {\n    width: 8px;\n    height: 8px;\n    margin-right: 3px;\n}\n\ntable.dataset .expander {\n    display: flex;\n    align-items: center;\n}\n\n/* formatting */\n\ntable.dataset .null {\n    color: var(--text-color-pale);\n}\n\ntable.dataset .structural {\n    color: var(--text-color-medium);\n    font-weight: bold;\n}\n\ntable.dataset .datasetCaption {\n    font-weight: bold;\n}\n\ntable.dataset .numbers {\n    color: var(--text-color-dark);\n}\n\ntable.dataset td:hover .formatted .structural, .null {\n    color: var(--text-color-dark);\n}\n\ntable.dataset tr:hover .formatted .structural, .null {\n    color: var(--text-color-dark);\n}\n\n</style>\n</head>\n<table class=\"dataset\">\n  <tr>\n    <th>age</th>\n    <th>length</th>\n  </tr>\n  <tr>\n    <td>25</td>\n    <td>1.7</td>\n  </tr>\n  <tr>\n    <td>25</td>\n    <td>1.67</td>\n  </tr>\n  <tr>\n    <td>17</td>\n    <td>1.8</td>\n  </tr>\n</table>\n"
     },
     "execution_count": 9,
     "metadata": {},
     "output_type": "execute_result"
    }
   ],
   "source": [
    "ds.selectTyped(col(Person::age), col(Person::length))"
   ],
   "metadata": {
    "collapsed": false,
    "pycharm": {
     "name": "#%%\n"
    }
   }
  },
  {
   "cell_type": "code",
   "execution_count": 10,
   "outputs": [
    {
     "data": {
      "text/plain": "Average length: 1.7233333333333334"
     },
     "execution_count": 10,
     "metadata": {},
     "output_type": "execute_result"
    }
   ],
   "source": [
    "\"Average length: \" +\n",
    "    ds\n",
    "        .map { it.length }\n",
    "        .reduceK { a, b -> a + b } / ds.count()"
   ],
   "metadata": {
    "collapsed": false,
    "pycharm": {
     "name": "#%%\n"
    }
   }
  },
  {
   "cell_type": "markdown",
   "source": [
    "Extension methods that usually only work in the `withSpark {}` context of the Kotlin Spark API work out of the box in Jupyter.\n",
    "This means we can also create a Dataset like this:"
   ],
   "metadata": {
    "collapsed": false,
    "pycharm": {
     "name": "#%% md\n"
    }
   }
  },
  {
   "cell_type": "code",
   "execution_count": 11,
   "outputs": [
    {
     "data": {
      "text/html": "<head>\n  <style type=\"text/css\">\n:root {\n    --background: #fff;\n    --background-odd: #f5f5f5;\n    --background-hover: #d9edfd;\n    --header-text-color: #474747;\n    --text-color: #848484;\n    --text-color-dark: #000;\n    --text-color-medium: #737373;\n    --text-color-pale: #b3b3b3;\n    --inner-border-color: #aaa;\n    --bold-border-color: #000;\n    --link-color: #296eaa;\n    --link-color-pale: #296eaa;\n    --link-hover: #1a466c;\n}\n\n:root[theme=\"dark\"], :root [data-jp-theme-light=\"false\"]{\n    --background: #303030;\n    --background-odd: #3c3c3c;\n    --background-hover: #464646;\n    --header-text-color: #dddddd;\n    --text-color: #b3b3b3;\n    --text-color-dark: #dddddd;\n    --text-color-medium: #b2b2b2;\n    --text-color-pale: #737373;\n    --inner-border-color: #707070;\n    --bold-border-color: #777777;\n    --link-color: #008dc0;\n    --link-color-pale: #97e1fb;\n    --link-hover: #00688e;\n}\n\ntable.dataset {\n    font-family: \"Helvetica Neue\", Helvetica, Arial, sans-serif;\n    font-size: 12px;\n    background-color: var(--background);\n    color: var(--text-color);\n    border: none;\n    border-collapse: collapse;\n}\n\ntable.dataset th, td {\n    padding: 6px;\n    border: 1px solid transparent;\n    text-align: left;\n}\n\ntable.dataset th {\n    background-color: var(--background);\n    color: var(--header-text-color);\n}\n\ntable.dataset td {\n    vertical-align: top;\n}\n\ntable.dataset th.bottomBorder {\n    border-bottom-color: var(--bold-border-color);\n}\n\ntable.dataset tbody > tr:nth-child(odd) {\n    background: var(--background-odd);\n}\n\ntable.dataset tbody > tr:nth-child(even) {\n    background: var(--background);\n}\n\ntable.dataset tbody > tr:hover {\n    background: var(--background-hover);\n}\n\ntable.dataset a {\n    cursor: pointer;\n    color: var(--link-color);\n    text-decoration: none;\n}\n\ntable.dataset tr:hover > td a {\n    color: var(--link-color-pale);\n}\n\ntable.dataset a:hover {\n    color: var(--link-hover);\n    text-decoration: underline;\n}\n\ntable.dataset img {\n    max-width: fit-content;\n}\n\ntable.dataset th.complex {\n    background-color: var(--background);\n    border: 1px solid var(--background);\n}\n\ntable.dataset .leftBorder {\n    border-left-color: var(--inner-border-color);\n}\n\ntable.dataset .rightBorder {\n    border-right-color: var(--inner-border-color);\n}\n\ntable.dataset .rightAlign {\n    text-align: right;\n}\n\ntable.dataset .expanderSvg {\n    width: 8px;\n    height: 8px;\n    margin-right: 3px;\n}\n\ntable.dataset .expander {\n    display: flex;\n    align-items: center;\n}\n\n/* formatting */\n\ntable.dataset .null {\n    color: var(--text-color-pale);\n}\n\ntable.dataset .structural {\n    color: var(--text-color-medium);\n    font-weight: bold;\n}\n\ntable.dataset .datasetCaption {\n    font-weight: bold;\n}\n\ntable.dataset .numbers {\n    color: var(--text-color-dark);\n}\n\ntable.dataset td:hover .formatted .structural, .null {\n    color: var(--text-color-dark);\n}\n\ntable.dataset tr:hover .formatted .structural, .null {\n    color: var(--text-color-dark);\n}\n\n</style>\n</head>\n<table class=\"dataset\">\n  <tr>\n    <th>value</th>\n  </tr>\n  <tr>\n    <td>1</td>\n  </tr>\n  <tr>\n    <td>2</td>\n  </tr>\n  <tr>\n    <td>3</td>\n  </tr>\n  <tr>\n    <td>4</td>\n  </tr>\n</table>\n"
     },
     "execution_count": 11,
     "metadata": {},
     "output_type": "execute_result"
    }
   ],
   "source": [
    "listOf(1, 2, 3, 4).toDS()"
   ],
   "metadata": {
    "collapsed": false,
    "pycharm": {
     "name": "#%%\n"
    }
   }
  },
  {
   "cell_type": "markdown",
   "source": [
    "We can also create RDDs using `sc: JavaSparkContext` which are rendered similarly to Datasets.\n",
    "You can see that all Tuple helper functions are immediately available too."
   ],
   "metadata": {
    "collapsed": false,
    "pycharm": {
     "name": "#%% md\n"
    }
   }
  },
  {
   "cell_type": "code",
   "execution_count": 12,
   "outputs": [
    {
     "data": {
      "text/html": "<head>\n  <style type=\"text/css\">\n:root {\n    --background: #fff;\n    --background-odd: #f5f5f5;\n    --background-hover: #d9edfd;\n    --header-text-color: #474747;\n    --text-color: #848484;\n    --text-color-dark: #000;\n    --text-color-medium: #737373;\n    --text-color-pale: #b3b3b3;\n    --inner-border-color: #aaa;\n    --bold-border-color: #000;\n    --link-color: #296eaa;\n    --link-color-pale: #296eaa;\n    --link-hover: #1a466c;\n}\n\n:root[theme=\"dark\"], :root [data-jp-theme-light=\"false\"]{\n    --background: #303030;\n    --background-odd: #3c3c3c;\n    --background-hover: #464646;\n    --header-text-color: #dddddd;\n    --text-color: #b3b3b3;\n    --text-color-dark: #dddddd;\n    --text-color-medium: #b2b2b2;\n    --text-color-pale: #737373;\n    --inner-border-color: #707070;\n    --bold-border-color: #777777;\n    --link-color: #008dc0;\n    --link-color-pale: #97e1fb;\n    --link-hover: #00688e;\n}\n\ntable.dataset {\n    font-family: \"Helvetica Neue\", Helvetica, Arial, sans-serif;\n    font-size: 12px;\n    background-color: var(--background);\n    color: var(--text-color);\n    border: none;\n    border-collapse: collapse;\n}\n\ntable.dataset th, td {\n    padding: 6px;\n    border: 1px solid transparent;\n    text-align: left;\n}\n\ntable.dataset th {\n    background-color: var(--background);\n    color: var(--header-text-color);\n}\n\ntable.dataset td {\n    vertical-align: top;\n}\n\ntable.dataset th.bottomBorder {\n    border-bottom-color: var(--bold-border-color);\n}\n\ntable.dataset tbody > tr:nth-child(odd) {\n    background: var(--background-odd);\n}\n\ntable.dataset tbody > tr:nth-child(even) {\n    background: var(--background);\n}\n\ntable.dataset tbody > tr:hover {\n    background: var(--background-hover);\n}\n\ntable.dataset a {\n    cursor: pointer;\n    color: var(--link-color);\n    text-decoration: none;\n}\n\ntable.dataset tr:hover > td a {\n    color: var(--link-color-pale);\n}\n\ntable.dataset a:hover {\n    color: var(--link-hover);\n    text-decoration: underline;\n}\n\ntable.dataset img {\n    max-width: fit-content;\n}\n\ntable.dataset th.complex {\n    background-color: var(--background);\n    border: 1px solid var(--background);\n}\n\ntable.dataset .leftBorder {\n    border-left-color: var(--inner-border-color);\n}\n\ntable.dataset .rightBorder {\n    border-right-color: var(--inner-border-color);\n}\n\ntable.dataset .rightAlign {\n    text-align: right;\n}\n\ntable.dataset .expanderSvg {\n    width: 8px;\n    height: 8px;\n    margin-right: 3px;\n}\n\ntable.dataset .expander {\n    display: flex;\n    align-items: center;\n}\n\n/* formatting */\n\ntable.dataset .null {\n    color: var(--text-color-pale);\n}\n\ntable.dataset .structural {\n    color: var(--text-color-medium);\n    font-weight: bold;\n}\n\ntable.dataset .datasetCaption {\n    font-weight: bold;\n}\n\ntable.dataset .numbers {\n    color: var(--text-color-dark);\n}\n\ntable.dataset td:hover .formatted .structural, .null {\n    color: var(--text-color-dark);\n}\n\ntable.dataset tr:hover .formatted .structural, .null {\n    color: var(--text-color-dark);\n}\n\n</style>\n</head>\n<table class=\"dataset\">\n  <tr>\n    <th>Values</th>\n  </tr>\n  <tr>\n    <td>[1, aaa]</td>\n  </tr>\n  <tr>\n    <td>[2, bbb]</td>\n  </tr>\n  <tr>\n    <td>[3, ccc]</td>\n  </tr>\n</table>\n"
     },
     "execution_count": 12,
     "metadata": {},
     "output_type": "execute_result"
    }
   ],
   "source": [
    "val rdd: JavaRDD<Tuple2<Int, String>> = sc.parallelize(\n",
    "    listOf(\n",
    "        1 X \"aaa\",\n",
    "        t(2, \"bbb\"),\n",
    "        tupleOf(3, \"ccc\"),\n",
    "    )\n",
    ")\n",
    "\n",
    "rdd"
   ],
   "metadata": {
    "collapsed": false,
    "pycharm": {
     "name": "#%%\n"
    }
   }
  }
 ],
 "metadata": {
  "kernelspec": {
   "display_name": "Kotlin",
   "language": "kotlin",
   "name": "kotlin"
  },
  "language_info": {
   "codemirror_mode": "text/x-kotlin",
   "file_extension": ".kt",
   "mimetype": "text/x-kotlin",
   "name": "kotlin",
   "nbconvert_exporter": "",
   "pygments_lexer": "kotlin",
   "version": "1.7.0-dev-3303"
  }
 },
 "nbformat": 4,
 "nbformat_minor": 1
}